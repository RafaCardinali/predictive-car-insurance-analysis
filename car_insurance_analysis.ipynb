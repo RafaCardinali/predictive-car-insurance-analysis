{
 "cells": [
  {
   "cell_type": "code",
   "execution_count": null,
   "metadata": {},
   "outputs": [],
   "source": [
    "import pandas as pd\n",
    "import numpy as np\n",
    "from statsmodels.formula.api import logit\n",
    "\n",
    "car_insurance_df = pd.read_csv('car_insurance.csv')\n",
    "car_insurance_df['credit_score'].fillna(car_insurance_df['credit_score'].median(), inplace=True)\n",
    "car_insurance_df['annual_mileage'].fillna(car_insurance_df['annual_mileage'].median(), inplace=True)\n",
    "possibles_features = car_insurance_df.columns[1: -2]\n",
    "\n",
    "models = []\n",
    "for feature in possibles_features:\n",
    "    formula = f'outcome ~ {feature}'\n",
    "    model = logit(formula, data=car_insurance_df).fit()\n",
    "    models.append(model)\n",
    "    \n",
    "accuracies = []\n",
    "\n",
    "for feature in range(0, len(models)):\n",
    "    conf_matrix = models[feature].pred_table()\n",
    "    TN = conf_matrix[0,0]\n",
    "    FN = conf_matrix[1,0]\n",
    "    TP = conf_matrix[1,1]\n",
    "    FP = conf_matrix[0,1]\n",
    "    \n",
    "    accuracy = (TN + TP) / (TN + FN + TP + FP)\n",
    "    accuracies.append(accuracy)\n",
    "    \n",
    "best_feature = possibles_features[accuracies.index(max(accuracies))]\n",
    "print(accuracies)\n",
    "best_feature_df = pd.DataFrame({'best_feature': best_feature, 'best_accuracy': max(accuracies)}, index=[0])\n",
    "print(best_feature_df)"
   ]
  }
 ],
 "metadata": {
  "language_info": {
   "name": "python"
  }
 },
 "nbformat": 4,
 "nbformat_minor": 2
}
